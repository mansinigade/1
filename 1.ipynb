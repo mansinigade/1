{
 "cells": [
  {
   "cell_type": "code",
   "execution_count": 3,
   "id": "d7ee2a2a",
   "metadata": {},
   "outputs": [
    {
     "name": "stdout",
     "output_type": "stream",
     "text": [
      "\n",
      "**Whitespace Tokenization:**\n",
      "['NLTK', 'is', 'a', 'powerful', 'library', 'for', 'natural', 'language', 'processing', 'tasks', '.', 'It', \"'s\", '#', 'awesome', '!']\n",
      "\n",
      "**Punctuation-based Tokenization:**\n",
      "['NLTK', 'is', 'a', 'powerful', 'library', 'for', 'natural', 'language', 'processing', 'tasks', '.', 'It', \"'\", 's', '#', 'awesome', '!']\n",
      "\n",
      "**Treebank Tokenization:**\n",
      "['NLTK', 'is', 'a', 'powerful', 'library', 'for', 'natural', 'language', 'processing', 'tasks.', 'It', \"'s\", '#', 'awesome', '!']\n",
      "\n",
      "**Tweet Tokenization:**\n",
      "['NLTK', 'is', 'a', 'powerful', 'library', 'for', 'natural', 'language', 'processing', 'tasks', '.', \"It's\", '#awesome', '!']\n",
      "\n",
      "**Multi-Word Expression (MWE) Tokenization:**\n",
      "['NLTK', 'is', 'a', 'powerful', 'library', 'for', 'natural_language', 'processing', 'tasks.', \"It's\", '#awesome!']\n",
      "\n",
      "**Porter Stemming:**\n",
      "['nltk', 'is', 'a', 'power', 'librari', 'for', 'natur', 'languag', 'process', 'task', '.', 'it', \"'s\", '#', 'awesom', '!']\n",
      "\n",
      "**Snowball Stemming:**\n",
      "['nltk', 'is', 'a', 'power', 'librari', 'for', 'natur', 'languag', 'process', 'task', '.', 'it', \"'s\", '#', 'awesom', '!']\n",
      "\n",
      "**Lemmatization:**\n",
      "['NLTK', 'is', 'a', 'powerful', 'library', 'for', 'natural', 'language', 'processing', 'task', '.', 'It', \"'s\", '#', 'awesome', '!']\n"
     ]
    },
    {
     "name": "stderr",
     "output_type": "stream",
     "text": [
      "[nltk_data] Downloading package punkt to\n",
      "[nltk_data]     C:\\Users\\abhis\\AppData\\Roaming\\nltk_data...\n",
      "[nltk_data]   Package punkt is already up-to-date!\n",
      "[nltk_data] Downloading package wordnet to\n",
      "[nltk_data]     C:\\Users\\abhis\\AppData\\Roaming\\nltk_data...\n",
      "[nltk_data]   Package wordnet is already up-to-date!\n"
     ]
    }
   ],
   "source": [
    "\n",
    "import nltk\n",
    "from nltk.tokenize import word_tokenize, wordpunct_tokenize, TreebankWordTokenizer, TweetTokenizer, MWETokenizer\n",
    "from nltk.stem import PorterStemmer, SnowballStemmer\n",
    "from nltk.stem import WordNetLemmatizer\n",
    "nltk.download('punkt')\n",
    "nltk.download('wordnet')\n",
    "# Sample text\n",
    "text = \"NLTK is a powerful library for natural language processing tasks. It's #awesome!\"\n",
    "# Tokenization\n",
    "print(\"\\n**Whitespace Tokenization:**\")\n",
    "tokens_ws = word_tokenize(text)\n",
    "print(tokens_ws)\n",
    "print(\"\\n**Punctuation-based Tokenization:**\")\n",
    "tokens_punct = wordpunct_tokenize(text)\n",
    "print(tokens_punct)\n",
    "print(\"\\n**Treebank Tokenization:**\")\n",
    "treebank_tokenizer = TreebankWordTokenizer()\n",
    "tokens_treebank = treebank_tokenizer.tokenize(text)\n",
    "print(tokens_treebank)\n",
    "print(\"\\n**Tweet Tokenization:**\")\n",
    "tweet_tokenizer = TweetTokenizer()\n",
    "tokens_tweet = tweet_tokenizer.tokenize(text)\n",
    "print(tokens_tweet)\n",
    "print(\"\\n**Multi-Word Expression (MWE) Tokenization:**\")\n",
    "mwe_tokenizer = MWETokenizer([('natural', 'language'), ('language', 'processing')])\n",
    "tokens_mwe = mwe_tokenizer.tokenize(text.split())\n",
    "print(tokens_mwe)\n",
    "# Stemming\n",
    "print(\"\\n**Porter Stemming:**\")\n",
    "porter_stemmer = PorterStemmer()\n",
    "stems_porter = [porter_stemmer.stem(token) for token in tokens_ws]\n",
    "print(stems_porter)\n",
    "print(\"\\n**Snowball Stemming:**\")\n",
    "snowball_stemmer = SnowballStemmer(\"english\")  # Choose a language\n",
    "stems_snowball = [snowball_stemmer.stem(token) for token in tokens_ws]\n",
    "print(stems_snowball)\n",
    "# Lemmatization\n",
    "print(\"\\n**Lemmatization:**\")\n",
    "lemmatizer = WordNetLemmatizer()\n",
    "lemmas = [lemmatizer.lemmatize(token) for token in tokens_ws]\n",
    "print(lemmas)\n",
    "\n",
    "\n",
    "\n"
   ]
  },
  {
   "cell_type": "code",
   "execution_count": null,
   "id": "0a3f5475",
   "metadata": {},
   "outputs": [],
   "source": [
    "\n"
   ]
  },
  {
   "cell_type": "code",
   "execution_count": null,
   "id": "1f42076f",
   "metadata": {},
   "outputs": [],
   "source": []
  }
 ],
 "metadata": {
  "kernelspec": {
   "display_name": "Python 3 (ipykernel)",
   "language": "python",
   "name": "python3"
  },
  "language_info": {
   "codemirror_mode": {
    "name": "ipython",
    "version": 3
   },
   "file_extension": ".py",
   "mimetype": "text/x-python",
   "name": "python",
   "nbconvert_exporter": "python",
   "pygments_lexer": "ipython3",
   "version": "3.9.7"
  }
 },
 "nbformat": 4,
 "nbformat_minor": 5
}
